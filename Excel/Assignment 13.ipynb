{
 "cells": [
  {
   "cell_type": "markdown",
   "id": "702c738b-87ff-49da-971b-847daecd849c",
   "metadata": {},
   "source": [
    "Using below dataset for answering all below questions \n",
    "\n",
    "https://docs.google.com/spreadsheets/d/1IRSEnmgz8Ro276-GslknRNk0zlrB5CZH1YrnT71kqFM/edit#gid=846762094"
   ]
  },
  {
   "cell_type": "markdown",
   "id": "fa0ad92b-cb38-422a-aaad-9c171f1fe143",
   "metadata": {},
   "source": [
    "Q1. What is the total amount of stationary bought from Madhya Pradesh ?\n",
    "\n",
    "Ans ->\n",
    "\n",
    "240418"
   ]
  },
  {
   "cell_type": "markdown",
   "id": "ad9b7b2a-1956-40e9-9587-803605a8108c",
   "metadata": {},
   "source": [
    "Q2. What is the total count of stationary bought from Tamilnadu ?\n",
    "\n",
    "Ans ->\n",
    "\n",
    "62392"
   ]
  },
  {
   "cell_type": "markdown",
   "id": "30206815-267c-40b5-9722-9e12acc604ab",
   "metadata": {},
   "source": [
    "Q3. What is the total amount spent on footwear ?\n",
    "\n",
    "Ans ->\n",
    "\n",
    "194226"
   ]
  },
  {
   "cell_type": "markdown",
   "id": "fd2adcf6-18b5-40bc-8056-af39948c48b8",
   "metadata": {},
   "source": [
    "Q4. What is the total amount of money spent for stationary in July ?\n",
    "\n",
    "Ans ->\n",
    "\n",
    "53398"
   ]
  },
  {
   "cell_type": "markdown",
   "id": "c9d5360e-a0ba-4263-816c-a87bc7acd468",
   "metadata": {},
   "source": [
    "Q5. What is the count of footwear that is coming from Delhi ?\n",
    "\n",
    "Ans ->\n",
    "\n",
    "2"
   ]
  }
 ],
 "metadata": {
  "kernelspec": {
   "display_name": "anaconda-panel-2023.05-py310",
   "language": "python",
   "name": "conda-env-anaconda-panel-2023.05-py310-py"
  },
  "language_info": {
   "codemirror_mode": {
    "name": "ipython",
    "version": 3
   },
   "file_extension": ".py",
   "mimetype": "text/x-python",
   "name": "python",
   "nbconvert_exporter": "python",
   "pygments_lexer": "ipython3",
   "version": "3.11.5"
  }
 },
 "nbformat": 4,
 "nbformat_minor": 5
}
