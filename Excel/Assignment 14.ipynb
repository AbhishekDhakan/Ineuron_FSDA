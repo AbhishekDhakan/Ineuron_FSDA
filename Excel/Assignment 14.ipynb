{
 "cells": [
  {
   "cell_type": "markdown",
   "id": "b4dc0f8d-2524-4e26-9346-af3b4f12f6cf",
   "metadata": {},
   "source": [
    "Using below dataset for answering all all questions \n",
    "\n",
    "https://docs.google.com/spreadsheets/d/1-Zo-A4gnlLOQxpU8qgpkTJPJCS8cQBmNzKVirJ_Ow0w/edit#gid=649658699"
   ]
  },
  {
   "cell_type": "markdown",
   "id": "d8285f9b-929b-4a51-8f75-96a645a3d329",
   "metadata": {},
   "source": [
    "Q1. How much Diamonds were looted from Chennai Port Trust ?\n",
    "\n",
    "Ans ->\n",
    "\n",
    "2985"
   ]
  },
  {
   "cell_type": "markdown",
   "id": "29115909-8cdd-4e8e-b123-c7b2fdfb4c2e",
   "metadata": {},
   "source": [
    "Q2. How many Ships were looted near Paradip Port Trust and Chennai Port Trust ?\n",
    "\n",
    "Ans ->\n",
    "\n",
    "6"
   ]
  },
  {
   "cell_type": "markdown",
   "id": "ed3361ae-c121-48db-a0c2-ad893577d5a7",
   "metadata": {},
   "source": [
    "Q3. What is the sum total of Diamonds looted from the V.O. Chidambarnar port trust ?\n",
    "\n",
    "Ans ->\n",
    "\n",
    "6082"
   ]
  },
  {
   "cell_type": "markdown",
   "id": "5203b21d-5867-4ec0-a3fc-a0f12a01b63b",
   "metadata": {},
   "source": [
    "Q4. What is the average amount of Diamonds and Soft drinks looted ?\n",
    "\n",
    "Ans ->\n",
    "\n",
    "a. Diamonds -- 1254.86\n",
    "\n",
    "b. soft drinks -- 2227.76"
   ]
  },
  {
   "cell_type": "markdown",
   "id": "457e0036-8aa6-4013-bc13-8fb426ee4604",
   "metadata": {},
   "source": [
    "Q5. What is the ratio of soft drinks drunk to soft drinks looted ?\n",
    "\n",
    "Ans ->\n",
    "\n",
    "0.94485"
   ]
  }
 ],
 "metadata": {
  "kernelspec": {
   "display_name": "anaconda-panel-2023.05-py310",
   "language": "python",
   "name": "conda-env-anaconda-panel-2023.05-py310-py"
  },
  "language_info": {
   "codemirror_mode": {
    "name": "ipython",
    "version": 3
   },
   "file_extension": ".py",
   "mimetype": "text/x-python",
   "name": "python",
   "nbconvert_exporter": "python",
   "pygments_lexer": "ipython3",
   "version": "3.11.5"
  }
 },
 "nbformat": 4,
 "nbformat_minor": 5
}
