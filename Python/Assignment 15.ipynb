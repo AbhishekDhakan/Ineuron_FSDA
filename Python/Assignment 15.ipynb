{
 "cells": [
  {
   "cell_type": "markdown",
   "id": "37bf6e0c-2738-4e64-9431-36da4e545277",
   "metadata": {},
   "source": [
    "Q1.How many seconds are in an hour? Use the interactive interpreter as a calculator and multiply the number of seconds in a minute (60) by the number of minutes in an hour (also 60).\n",
    "sol. 60 ?\n",
    "\n",
    "Ans ->\n",
    "\n",
    "Indeed, the calculation is accurate. To determine the number of seconds in an hour, you can multiply the number of seconds in a minute (60) by the number of minutes in an hour (also 60):\r\n",
    "\r\n",
    "$$60 \\text{ seconds/minute} \\times 60 \\text{ minutes/hour} = 3600 \\text{ seconds/hour}$$\r\n",
    "\r\n",
    "Hence, there are 3600 seconds in an hour."
   ]
  },
  {
   "cell_type": "markdown",
   "id": "8db11e7f-2424-426e-bf1e-5a7571c4d6cb",
   "metadata": {},
   "source": [
    "Q2. Assign the result from the previous task (seconds in an hour) to a variable called seconds_per_hour.\n",
    "\n",
    "Ans ->\n",
    "\n",
    "To store the outcome from the prior task (seconds in an hour) into a variable named `seconds_per_hour`, you can effortlessly use the subsequent assignment statement:\r\n",
    "\r\n",
    "```python\r\n",
    "seconds_per_hour = 60 * 60\r\n",
    "```\r\n",
    "\r\n",
    "This allocates the value 3600 to the variable `seconds_per_hour`, symbolizing the number of seconds in an hour."
   ]
  },
  {
   "cell_type": "markdown",
   "id": "096cdf3c-3069-40f6-ba09-6a3acfd61569",
   "metadata": {},
   "source": [
    "Q3. How many seconds do you think there are in a day? Make use of the variables seconds per hour and minutes per hour.\n",
    "\n",
    "Ans ->\n",
    "\n",
    "To determine the number of seconds in a day, we need to multiply the number of seconds in an hour by the number of hours in a day. Given that a day consists of 24 hours:\r\n",
    "\r\n",
    "\\[ \\text{seconds in a day} = \\text{seconds in an hour} \\times \\text{hours in a day} \\]\r\n",
    "\r\n",
    "Using the previously established variable `seconds_per_hour`, which equals 3600 seconds, and considering that a day has 24 hours, we can compute the number of seconds in a day:\r\n",
    "\r\n",
    "\\[ \\text{seconds in a day} = 3600 \\text{ seconds/hour} \\times 24 \\text{ hours/day} \\]\r\n",
    "\r\n",
    "Let's carry out the calculation:\r\n",
    "\r\n",
    "\\[ \\text{seconds in a day} = 3600 \\times 24 \\]\r\n",
    "\r\n",
    "\\[ \\text{seconds in a day} = 86400 \\]\r\n",
    "\r\n",
    "Therefore, a day comprises 86,400 seconds."
   ]
  },
  {
   "cell_type": "markdown",
   "id": "381485b2-2ecf-44cf-a3a9-51d66b3737ea",
   "metadata": {},
   "source": [
    "Q4. Calculate seconds per day again, but this time save the result in a variable called seconds_per_day \n",
    "\n",
    "Ans ->\n",
    "\n",
    "To compute the number of seconds in a day and store the outcome in a variable named `seconds_per_day`, we'll execute the calculation as previously:\r\n",
    "\r\n",
    "```python\r\n",
    "# Compute the number of seconds in a day\r\n",
    "seconds_per_day = seconds_per_hour * 24\r\n",
    "\r\n",
    "# Output the result\r\n",
    "print(\"Seconds in a day:\", seconds_per_day)\r\n",
    "```\r\n",
    "\r\n",
    "This computation multiplies the number of seconds in an hour (`seconds_per_hour`) by the number of hours in a day (24) and stores the outcome in the variable `seconds_per_day`. Lastly, we output the result for verification."
   ]
  },
  {
   "cell_type": "markdown",
   "id": "3bdf6e6c-5557-499f-a876-e503c8e2bfd0",
   "metadata": {},
   "source": [
    "Q5. Divide seconds_per_day by seconds_per_hour. Use floating-point (/) division.\n",
    "\n",
    "Ans ->\n",
    "\n",
    "To perform a floating-point division of `seconds_per_day` by `seconds_per_hour`, you can utilize the subsequent code:\r\n",
    "\r\n",
    "```python\r\n",
    "# Execute floating-point division\r\n",
    "outcome = seconds_per_day / seconds_per_hour\r\n",
    "\r\n",
    "# Output the outcome\r\n",
    "print(\"Outcome:\", outcome)\r\n",
    "```\r\n",
    "\r\n",
    "This will yield the outcome of dividing the number of seconds in a day by the number of seconds in an hour, using floating-point division."
   ]
  },
  {
   "cell_type": "markdown",
   "id": "2ebb523b-ce1d-4426-a12c-c74bad72cc41",
   "metadata": {},
   "source": [
    "Q6. Divide seconds_per_day by seconds_per_hour, using integer (//) division. Did this number agree with the floating-point value from the previous question, aside from the final .0 ?\n",
    "\n",
    "Ans ->\n",
    "\n",
    "To execute an integer (//) division of `seconds_per_day` by `seconds_per_hour`, you can utilize the subsequent code:\r\n",
    "\r\n",
    "```python\r\n",
    "# Carry out integer division\r\n",
    "result_int = seconds_per_day // seconds_per_hour\r\n",
    "\r\n",
    "# Output the result\r\n",
    "print(\"Outcome (integer division):\", result_int)\r\n",
    "```\r\n",
    "\r\n",
    "This will yield the outcome of dividing the number of seconds in a day by the number of seconds in an hour, using integer division.\r\n",
    "\r\n",
    "In terms of the concurrence between the integer and floating-point values, the outcome of the integer division will coincide with the floating-point division outcome, except that it will be rounded down to the closest whole number (i.e., it will not encompass any fractional part). Thus, while the concluding .0 may not be included in the integer division outcome, the magnitude of the two values should be identical."
   ]
  },
  {
   "cell_type": "markdown",
   "id": "9cc244a5-49a0-4c22-b853-788cf527501f",
   "metadata": {},
   "source": [
    "Q7. Write a generator, genPrimes, that returns the sequence of prime numbers on successive calls to its next() method: 2, 3, 5, 7, 11, ...\n",
    "\n",
    "Ans ->\n",
    "\n",
    "To construct a generator `genPrimes` that produces a sequence of prime numbers upon consecutive calls to its `next()` method, you can employ the following code:\r\n",
    "\r\n",
    "```python\r\n",
    "def genPrimes():\r\n",
    "    \"\"\"Generator that produces prime numbers.\"\"\"\r\n",
    "    # Begin with the first prime number\r\n",
    "    prime = 2\r\n",
    "    # Initialize an empty list to hold primes\r\n",
    "    primes = []\r\n",
    "    # Infinite loop to produce primes\r\n",
    "    while True:\r\n",
    "        # Produce the current prime number\r\n",
    "        yield prime\r\n",
    "        # Look for the next prime number\r\n",
    "        prime += 1\r\n",
    "        while True:\r\n",
    "            # Verify if the current number is prime\r\n",
    "            for p in primes:\r\n",
    "                if prime % p == 0:\r\n",
    "                    break\r\n",
    "            else:\r\n",
    "                # If the number is prime, add it to the list of primes\r\n",
    "                primes.append(prime)\r\n",
    "                break\r\n",
    "            # If not prime, proceed to the next number\r\n",
    "            prime += 1\r\n",
    "```\r\n",
    "\r\n",
    "This generator function `genPrimes()` endlessly generates prime numbers. It commences with the first prime number (2) and produces it. Then, it iterates over the following numbers to discover the next prime number. The `primes` list is utilized to store previously discovered prime numbers to verify if a number is prime. If a number is determined to be prime, it is added to the list and produced by the generator. This procedure continues indefinitely, producing prime numbers upon consecutive calls to its `next()` method."
   ]
  }
 ],
 "metadata": {
  "kernelspec": {
   "display_name": "anaconda-panel-2023.05-py310",
   "language": "python",
   "name": "conda-env-anaconda-panel-2023.05-py310-py"
  },
  "language_info": {
   "codemirror_mode": {
    "name": "ipython",
    "version": 3
   },
   "file_extension": ".py",
   "mimetype": "text/x-python",
   "name": "python",
   "nbconvert_exporter": "python",
   "pygments_lexer": "ipython3",
   "version": "3.11.5"
  }
 },
 "nbformat": 4,
 "nbformat_minor": 5
}
