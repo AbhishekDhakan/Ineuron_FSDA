{
 "cells": [
  {
   "cell_type": "markdown",
   "id": "7f7bd612-74bd-42ff-a2b1-4ea6607b1b73",
   "metadata": {},
   "source": [
    "Q1. What is the name of the feature responsible for generating Regex objects ?\n",
    "\n",
    "Ans ->\n",
    "\n",
    "The `re` module in Python is responsible for creating Regex (regular expression) objects.\r\n",
    "\r\n",
    "- `re` module: This module offers functionalities for handling regular expressions in Python. It encompasses functions and methods for formulating, compiling, and utilizing regular expressions to search, match, and modify text strings.\r\n",
    "\r\n",
    "For instance:\r\n",
    "```python\r\n",
    "import re\r\n",
    "\r\n",
    "pattern = re.compile(r'\\d+')  # Compile a regular expression pattern\r\n",
    "matches = pattern.findall('There are 123 apples and 456 oranges.')  # Find all matches of digits in the string\r\n",
    "```\r\n",
    "\r\n",
    "By using the `re` module, you can formulate Regex objects by compiling regular expression patterns, which can subsequently be used to execute various operations such as searching, matching, and replacing text based on the established pattern."
   ]
  },
  {
   "cell_type": "markdown",
   "id": "8e604fb5-9302-47e1-b2a7-cbb799778e95",
   "metadata": {},
   "source": [
    "Q2. Why do raw strings often appear in Regex objects ?\n",
    "\n",
    "Ans ->\n",
    "\n",
    "Raw strings (`r''`) are frequently used in Regex objects in Python as they prevent backslashes (`\\`) from being interpreted as escape characters.\r\n",
    "\r\n",
    "In regular expressions, backslashes are typically used to escape special characters and denote metacharacters or special sequences. However, in Python string literals, backslashes also serve as escape characters for special sequences such as newline (`\\n`) or tab (`\\t`).\r\n",
    "\r\n",
    "Utilizing raw strings (`r''`) in Regex objects ensures that backslashes are treated as literal characters, simplifying the writing and reading of regular expressions by eliminating the need for double escaping. This is particularly beneficial when working with complex regular expressions that contain numerous backslashes, as it prevents confusion and reduces the chance of errors.\r\n",
    "\r\n",
    "For instance:\r\n",
    "```python\r\n",
    "import re\r\n",
    "\r\n",
    "# Without raw string\r\n",
    "pattern = re.compile('\\\\d+')  # Compiles a regular expression to match digits\r\n",
    "\r\n",
    "# With raw string\r\n",
    "pattern = re.compile(r'\\d+')  # Compiles the same regular expression using a raw string\r\n",
    "```\r\n",
    "\r\n",
    "Employing a raw string (`r''`) in regular expressions enhances the expression's simplicity and readability by eliminating the need for extra escaping of backslashes."
   ]
  },
  {
   "cell_type": "markdown",
   "id": "bc032bc0-e33c-4172-93d1-a56f4b0194a8",
   "metadata": {},
   "source": [
    "Q3. What is the return value of the search() method ?\n",
    "\n",
    "Ans ->\n",
    "\n",
    "The `search()` method in Python's `re` module yields a `Match` object when a match is identified, or `None` if there is no match."
   ]
  },
  {
   "cell_type": "markdown",
   "id": "0675092a-8cbb-42b2-9399-769e99ced1a0",
   "metadata": {},
   "source": [
    "Q4. From a Match item, how do you get the actual strings that match the pattern ?\n",
    "\n",
    "Ans ->\n",
    "\n",
    "You can extract the actual strings that correspond to the pattern from a `Match` object using the `group()` method."
   ]
  },
  {
   "cell_type": "markdown",
   "id": "4c85f28b-745a-42d0-b632-c8dd25ef5812",
   "metadata": {},
   "source": [
    "Q5. In the regex which created from the r'(\\d\\d\\d)-(\\d\\d\\d-\\d\\d\\d\\d)', what does group zero cover? Group 2? Group 1 ?\n",
    "\n",
    "Ans ->\n",
    "\n",
    "In the regular expression formed from the pattern `r'(\\d\\d\\d)-(\\d\\d\\d-\\d\\d\\d\\d)'`:\r\n",
    "\r\n",
    "- Group 0 encompasses the whole matched string.\r\n",
    "- Group 1 encompasses the substring matched by the first set of parentheses `(\\d\\d\\d)`.\r\n",
    "- Group 2 encompasses the substring matched by the second set of parentheses `(\\d\\d\\d-\\d\\d\\d\\d)`."
   ]
  },
  {
   "cell_type": "markdown",
   "id": "f3e76bf0-dd4a-48d0-8f03-84239dadca51",
   "metadata": {},
   "source": [
    "Q6. In standard expression syntax, parentheses and intervals have distinct meanings. How can you tell a regex that you want it to fit real parentheses and periods ?\n",
    "\n",
    "Ans ->\n",
    "\n",
    "To specify to a regular expression that you intend to match literal parentheses `()` and periods `.`, you can employ the backslash `\\` to escape them. This directs the regex engine to treat these characters as literal characters rather than their typical interpretation as special metacharacters."
   ]
  },
  {
   "cell_type": "markdown",
   "id": "cc05b5f5-ab4f-4357-bc4c-aeae7668afae",
   "metadata": {},
   "source": [
    "Q7. The findall() method returns a string list or a list of string tuples. What causes it to return one of the two options ?\n",
    "\n",
    "Ans ->\n",
    "\n",
    "The `findall()` method yields either a list of strings or a list of tuples of strings, depending on whether capturing groups are present in the regular expression pattern.\r\n",
    "\r\n",
    "- If the regular expression pattern includes capturing groups (indicated by parentheses `()`), `findall()` yields a list of tuples of strings. Each tuple corresponds to a match, and each element within the tuple contains the substring matched by a capturing group in the pattern.\r\n",
    "\r\n",
    "- If the regular expression pattern does not include any capturing groups, `findall()` yields a list of strings. Each string in the list represents the entire matched substring for each match identified in the input string.\r\n",
    "\r\n",
    "The existence or non-existence of capturing groups in the regular expression pattern dictates the structure of the resulting list returned by `findall()`."
   ]
  },
  {
   "cell_type": "markdown",
   "id": "23c2529f-8c60-4424-b082-b0da19591a2d",
   "metadata": {},
   "source": [
    "Q8. In standard expressions, what does the | character mean ?\n",
    "\n",
    "Ans ->\n",
    "\n",
    "In regular expressions, the `|` symbol, also referred to as the pipe or alternation operator, functions as a logical OR operator. It enables you to define multiple alternatives for a match.\r\n",
    "\r\n",
    "For instance, in the pattern `cat|dog`, the regex engine will try to match either `cat` or `dog`. If any of these alternatives are detected in the input string, the pattern is deemed to have matched.\r\n",
    "\r\n",
    "The `|` symbol is beneficial for defining multiple alternative patterns within a single regular expression, offering flexibility in matching a range of possibilities."
   ]
  },
  {
   "cell_type": "markdown",
   "id": "afdfd126-58c0-42ab-93d0-fb29359fe0da",
   "metadata": {},
   "source": [
    "Q9. In regular expressions, what does the character stand for ?\n",
    "\n",
    "Ans ->\n",
    "\n",
    "In regular expressions, the `|` symbol, also referred to as the pipe or alternation operator, functions as a logical OR operator. It enables you to define multiple alternatives for a match.\r\n",
    "\r\n",
    "For instance, in the pattern `cat|dog`, the regex engine will try to match either `cat` or `dog`. If any of these alternatives are detected in the input string, the pattern is deemed to have matched.\r\n",
    "\r\n",
    "The `|` symbol is beneficial for defining multiple alternative patterns within a single regular expression, offering flexibility in matching a range of possibilities."
   ]
  },
  {
   "cell_type": "markdown",
   "id": "d64f5788-aa13-4eb5-8121-dec2f1c121d6",
   "metadata": {},
   "source": [
    "Q10. In regular expressions, what is the difference between the + and * characters ?\n",
    "\n",
    "Ans ->\n",
    "\n",
    "In regular expressions, the `+` symbol signifies \"one or more\" instances of the preceding element, whereas the `*` symbol signifies \"zero or more\" instances of the preceding element."
   ]
  },
  {
   "cell_type": "markdown",
   "id": "cb755cfc-5ba8-4922-a973-f638794e20c4",
   "metadata": {},
   "source": [
    "Q11. What is the difference between {4} and {4,5} in regular expression ?\n",
    "\n",
    "Ans ->\n",
    "\n",
    "In regular expressions, `{4}` denotes exactly four instances of the preceding element, whereas `{4,5}` denotes a range of instances for the preceding element, from four to five times, inclusive."
   ]
  },
  {
   "cell_type": "markdown",
   "id": "1de0cf85-8261-4d71-a729-525848986a78",
   "metadata": {},
   "source": [
    "Q12. What do you mean by the \\d, \\w, and \\s shorthand character classes signify in regular expressions ?\n",
    "\n",
    "Ans ->\n",
    "\n",
    "In regular expressions, the shorthand character classes `\\d`, `\\w`, and `\\s` represent the following:\r\n",
    "\r\n",
    "- `\\d`: Matches any numeric character. It is equivalent to the character class `[0-9]`.\r\n",
    "- `\\w`: Matches any alphanumeric character (i.e., letters, numbers, or underscores). It is equivalent to the character class `[a-zA-Z0-9_]`.\r\n",
    "- `\\s`: Matches any whitespace character (i.e., spaces, tabs, newlines, or carriage returns). It is equivalent to the character class `[ \\t\\n\\r]`.\r\n",
    "\r\n",
    "These shorthand character classes offer convenient alternatives for frequently used character classes, enabling more succinct regular expression patterns."
   ]
  },
  {
   "cell_type": "markdown",
   "id": "d62a5af9-f5bd-46a1-894a-4ea1fe1aa663",
   "metadata": {},
   "source": [
    "Q13. What do means by \\D, \\W, and \\S shorthand character classes signify in regular expressions ?\n",
    "\n",
    "Ans ->\n",
    "\n",
    "In regular expressions, the shorthand character classes `\\D`, `\\W`, and `\\S` represent the following:\r\n",
    "\r\n",
    "- `\\D`: Matches any character that is not a numeric digit. It is the opposite of the `\\d` shorthand character class.\r\n",
    "- `\\W`: Matches any character that is not a word character. It is the opposite of the `\\w` shorthand character class.\r\n",
    "- `\\S`: Matches any character that is not a whitespace character. It is the opposite of the `\\s` shorthand character class.\r\n",
    "\r\n",
    "These shorthand character classes offer convenient alternatives for matching characters that do not fall into certain categories, enabling more succinct regular expression patterns."
   ]
  },
  {
   "cell_type": "markdown",
   "id": "f7a4f2a2-1b70-43f4-93b2-c575b0936fac",
   "metadata": {},
   "source": [
    "Q14. What is the difference between .*? and .* ?\n",
    "\n",
    "Ans ->\n",
    "\n",
    "In the realm of regular expressions, both `.*?` and `.*` serve as quantifiers that can match any character zero or more times. However, their operational behavior differs significantly:\r\n",
    "\r\n",
    "- `.*`: This quantifier is classified as greedy, which implies that it strives to match the maximum number of characters possible while still ensuring that the overall pattern matches. It will absorb as many characters as it can, potentially matching more than what was intended.\r\n",
    "- `.*?`: This quantifier is categorized as non-greedy or lazy, which means it aims to match the minimum number of characters possible while still ensuring that the overall pattern matches. It will absorb only the necessary number of characters, potentially matching fewer characters than what was intended.\r\n",
    "\r\n",
    "In essence, `.*` operates in a greedy manner, absorbing as many characters as it can, while `.*?` operates in a non-greedy or lazy manner, absorbing only the necessary number of characters."
   ]
  },
  {
   "cell_type": "markdown",
   "id": "fed50703-1b19-4c57-bf3b-11e0bb7fac19",
   "metadata": {},
   "source": [
    "Q15. What is the syntax for matching both numbers and lowercase letters with a character class ?\n",
    "\n",
    "Ans ->\n",
    "\n",
    "The regular expression `[0-9a-z]` is a character class syntax used to match both numbers and lowercase letters.\r\n",
    "\r\n",
    "The character class `[0-9a-z]` defines a range that encompasses all digits (`0-9`) and all lowercase letters (`a-z`). It corresponds to any single character that is either a digit or a lowercase letter.\r\n",
    "\r\n",
    "The utilization of this character class enables the efficient and succinct matching of alphanumeric characters."
   ]
  },
  {
   "cell_type": "markdown",
   "id": "8f8bf156-9d0b-4c87-bb2a-5b0a81cb6ca3",
   "metadata": {},
   "source": [
    "Q16. What is the procedure for making a normal expression in regax case insensitive ?\n",
    "\n",
    "Ans ->\n",
    "\n",
    "In regex, if you want to make a regular expression case insensitive, you can employ the `re.IGNORECASE` or `re.I` flag during the compilation of the regular expression pattern. This flag enables the pattern to match both uppercase and lowercase versions of letters indiscriminately.\r\n",
    "\r\n",
    "Here's an example:\r\n",
    "```python\r\n",
    "import re\r\n",
    "\r\n",
    "pattern = re.compile(r'hello', re.IGNORECASE)\r\n",
    "# or equivalently:\r\n",
    "# pattern = re.compile(r'hello', re.I)\r\n",
    "```\r\n",
    "\r\n",
    "By applying the `re.IGNORECASE` or `re.I` flag, the pattern `r'hello'` would not only match `hello`, but also `Hello`, `HELLO`, `HeLLo`, and so forth, regardless of case. This renders the regular expression case insensitive."
   ]
  },
  {
   "cell_type": "markdown",
   "id": "c666c99b-22d9-4f21-96d0-43503fadc2f5",
   "metadata": {},
   "source": [
    "Q17. What does the . character normally match? What does it match if re.DOTALL is passed as 2nd argument in re.compile() ?\n",
    "\n",
    "Ans ->\n",
    "\n",
    "In the context of regular expressions, the `.` (dot) character typically matches any single character, with the exception of a newline character (`\\n`). It acts as a wildcard symbol, standing in for any character within a pattern.\r\n",
    "\r\n",
    "However, if `re.DOTALL` is supplied as the second argument in `re.compile()`, the `.` character will match any character, newline characters (`\\n`) included. This flag essentially activates the \"dot-all\" mode, permitting the dot to match newline characters as well.\r\n",
    "\r\n",
    "Here's an illustration:\r\n",
    "```python\r\n",
    "import re\r\n",
    "\r\n",
    "pattern_normal = re.compile(r'.')\r\n",
    "pattern_dotall = re.compile(r'.', re.DOTALL)\r\n",
    "```\r\n",
    "\r\n",
    "In the case of `pattern_normal`, the dot `.` would match any character excluding newline characters. On the other hand, with `pattern_dotall`, the dot `.` would match any character, newline characters included."
   ]
  },
  {
   "cell_type": "markdown",
   "id": "1ff3197c-b125-4cf6-9e15-e5a68a82ddb7",
   "metadata": {},
   "source": [
    "Q18. If numReg = re.compile(r'\\d+'), what will numRegex.sub('X', '11 drummers, 10 pipers, five rings, 4 hen') return ?\n",
    "\n",
    "Ans ->\n",
    "\n",
    "If `numReg = re.compile(r'\\d+')`, then executing `numRegex.sub('X', '11 drummers, 10 pipers, five rings, 4 hen')` will yield the string `'X drummers, X pipers, five rings, X hen'`.\r\n",
    "\r\n",
    "Here's the breakdown:\r\n",
    "- The regular expression `r'\\d+'` is designed to match one or more digits.\r\n",
    "- The `sub()` function replaces all instances of the pattern identified by the regular expression with the specified replacement string `'X'`.\r\n",
    "- In the provided input string `'11 drummers, 10 pipers, five rings, 4 hen'`, the numbers `'11'`, `'10'`, and `'4'` are matched by the pattern `\\d+`.\r\n",
    "- Consequently, these numbers are substituted with the string `'X'`, leading to the final output string `'X drummers, X pipers, five rings, X hen'`."
   ]
  },
  {
   "cell_type": "markdown",
   "id": "0f81f075-008d-4a14-8bc4-db88bf52edda",
   "metadata": {},
   "source": [
    "Q19. What does passing re.VERBOSE as the 2nd argument to re.compile() allow to do ?\n",
    "\n",
    "Ans ->\n",
    "\n",
    "By supplying `re.VERBOSE` as the second argument to `re.compile()`, you can construct regular expressions that incorporate whitespace and comments, enhancing their readability.\r\n",
    "\r\n",
    "- With `re.VERBOSE` in use, whitespace within the regular expression pattern is disregarded, unless it's escaped or within a character class `[ ]`.\r\n",
    "- Furthermore, you can incorporate comments in the regular expression by starting them with `#`. These comments extend until the line's end.\r\n",
    "\r\n",
    "This feature proves beneficial for crafting intricate regular expressions that are more comprehensible and maintainable.\r\n",
    "\r\n",
    "For instance:\r\n",
    "```python\r\n",
    "import re\r\n",
    "\r\n",
    "pattern = re.compile(r'''\r\n",
    "    \\d+  # Matches one or more digits\r\n",
    "    \\s*  # Matches zero or more whitespace characters\r\n",
    "    [a-z]+  # Matches one or more lowercase letters\r\n",
    "''', re.VERBOSE)\r\n",
    "```\r\n",
    "\r\n",
    "In this example, the `re.VERBOSE` flag facilitates the inclusion of comments (`#`) and whitespace within the regular expression pattern, thereby enhancing its readability."
   ]
  },
  {
   "cell_type": "markdown",
   "id": "7779883d-ffc1-4299-b353-365d1d5f2590",
   "metadata": {},
   "source": [
    "Q20. How would you write a regex that match a number with comma for every three digits? It must match the given following:\n",
    "'42'\n",
    "'1,234'\n",
    "'6,368,745'\n",
    "but not the following:\n",
    "'12,34,567' (which has only two digits between the commas)\n",
    "'1234' (which lacks commas)\n",
    "\n",
    "Ans ->\n",
    "\n",
    "To identify a number that uses commas for every three digits, you can employ the following regular expression:\r\n",
    "\r\n",
    "```python\r\n",
    "import re\r\n",
    "\r\n",
    "pattern = re.compile(r'^\\d{1,3}(,\\d{3})*$')\r\n",
    "```\r\n",
    "\r\n",
    "Here's the breakdown:\r\n",
    "- `^`: Corresponds to the beginning of the string.\r\n",
    "- `\\d{1,3}`: Matches one to three digits at the start.\r\n",
    "- `(,\\d{3})*`: Matches zero or more instances of a comma followed by precisely three digits.\r\n",
    "- `$`: Corresponds to the end of the string.\r\n",
    "\r\n",
    "This regular expression will match strings that are composed of one to three digits followed by zero or more sets of a comma and exactly three digits. This enables it to match numbers that use commas for every three digits."
   ]
  },
  {
   "cell_type": "markdown",
   "id": "cb188648-28f9-4cd5-a42c-0227a9f095df",
   "metadata": {},
   "source": [
    "Q21. How would you write a regex that matches the full name of someone whose last name is Watanabe? You can assume that the first name that comes before it will always be one word that begins with a capital letter. The regex must match the following:\n",
    "'Haruto Watanabe'\n",
    "'Alice Watanabe'\n",
    "'RoboCop Watanabe'\n",
    "but not the following:\n",
    "'haruto Watanabe' (where the first name is not capitalized)\n",
    "'Mr. Watanabe' (where the preceding word has a nonletter character)\n",
    "'Watanabe' (which has no first name)\n",
    "'Haruto watanabe' (where Watanabe is not capitalized)\n",
    "\n",
    "Ans ->\n",
    "\n",
    "To identify a person whose surname is Watanabe, given that the first name always starts with a capital letter, you can utilize the following regular expression:\r\n",
    "\r\n",
    "```python\r\n",
    "import re\r\n",
    "\r\n",
    "pattern = re.compile(r'^[A-Z][a-z]*\\sWatanabe$')\r\n",
    "```\r\n",
    "\r\n",
    "Here's the explanation:\r\n",
    "- `^`: Corresponds to the beginning of the string.\r\n",
    "- `[A-Z]`: Matches a single uppercase letter (the initial letter of the first name).\r\n",
    "- `[a-z]*`: Matches zero or more lowercase letters (the rest of the first name).\r\n",
    "- `\\s`: Matches a whitespace character (space).\r\n",
    "- `Watanabe`: Matches the surname \"Watanabe\" literally.\r\n",
    "- `$`: Corresponds to the end of the string.\r\n",
    "\r\n",
    "This regular expression will match strings that are composed of a single uppercase letter followed by zero or more lowercase letters (the first name), a whitespace character, and the surname \"Watanabe\". This ensures that the surname is specifically \"Watanabe\" and that the first name begins with a capital letter."
   ]
  },
  {
   "cell_type": "markdown",
   "id": "d6e4f6aa-6693-4ddb-bde7-5aa8b20eeba0",
   "metadata": {},
   "source": [
    "Q22. How would you write a regex that matches a sentence where the first word is either Alice, Bob, or Carol; the second word is either eats, pets, or throws; the third word is apples, cats, or baseballs; and the sentence ends with a period? This regex should be case-insensitive. It must match the following:\n",
    "'Alice eats apples.'\n",
    "'Bob pets cats.'\n",
    "'Carol throws baseballs.'\n",
    "'Alice throws Apples.'\n",
    "'BOB EATS CATS.'\n",
    "but not the following:\n",
    "'RoboCop eats apples.'\n",
    "'ALICE THROWS FOOTBALLS.'\n",
    "'Carol eats 7 cats.'\n",
    "\n",
    "Ans ->\n",
    "\n",
    "To identify a sentence where the initial word is either Alice, Bob, or Carol; the second word is either eats, pets, or throws; the third word is either apples, cats, or baseballs; and the sentence concludes with a period, while disregarding case, you can employ the following regular expression:\r\n",
    "\r\n",
    "```python\r\n",
    "import re\r\n",
    "\r\n",
    "pattern = re.compile(r'^(Alice|Bob|Carol)\\s(eats|pets|throws)\\s(apples|cats|baseballs)\\.$', re.IGNORECASE)\r\n",
    "```\r\n",
    "\r\n",
    "Here's the explanation:\r\n",
    "- `^`: Corresponds to the beginning of the string.\r\n",
    "- `(Alice|Bob|Carol)`: Matches either \"Alice\", \"Bob\", or \"Carol\" as the first word.\r\n",
    "- `\\s`: Matches a whitespace character (space).\r\n",
    "- `(eats|pets|throws)`: Matches either \"eats\", \"pets\", or \"throws\" as the second word.\r\n",
    "- `(apples|cats|baseballs)`: Matches either \"apples\", \"cats\", or \"baseballs\" as the third word.\r\n",
    "- `\\.`: Matches a period at the end of the string.\r\n",
    "- `$`: Corresponds to the end of the string.\r\n",
    "\r\n",
    "This regular expression will match strings that adhere to the specified pattern, irrespective of the case of the words."
   ]
  }
 ],
 "metadata": {
  "kernelspec": {
   "display_name": "anaconda-panel-2023.05-py310",
   "language": "python",
   "name": "conda-env-anaconda-panel-2023.05-py310-py"
  },
  "language_info": {
   "codemirror_mode": {
    "name": "ipython",
    "version": 3
   },
   "file_extension": ".py",
   "mimetype": "text/x-python",
   "name": "python",
   "nbconvert_exporter": "python",
   "pygments_lexer": "ipython3",
   "version": "3.11.5"
  }
 },
 "nbformat": 4,
 "nbformat_minor": 5
}
