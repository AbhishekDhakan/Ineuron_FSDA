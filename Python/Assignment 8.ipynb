{
 "cells": [
  {
   "cell_type": "markdown",
   "id": "e43aeb7a-6170-4d57-9bd5-a13b09b5441b",
   "metadata": {},
   "source": [
    "Q1. Is the Python Standard Library included with PyInputPlus ?\n",
    "\n",
    "Ans ->\n",
    "\n",
    "PyInputPlus does not come bundled with the Python Standard Library. It is an independent library that augments Python's ability to take user input, offering features like input validation and management. While PyInputPlus is built on the Python Standard Library and works in harmony with it, it's not a part of it. This allows users to utilize the features of both in their Python endeavors. However, it's important to note that PyInputPlus needs to be installed separately."
   ]
  },
  {
   "cell_type": "markdown",
   "id": "be265186-6712-4a1b-b5e3-78fdd6426e9c",
   "metadata": {},
   "source": [
    "Q2. Why is PyInputPlus commonly imported with import pyinputplus as pypi ?\n",
    "\n",
    "Ans ->\n",
    "\n",
    "It's typical to import PyInputPlus using `import pyinputplus as pypi`, which serves as a concise reference to the library. This practice of aliasing enhances the readability of the code and minimizes the keystrokes needed when employing PyInputPlus functions and classes in the codebase. The `pypi` alias allows developers to swiftly identify code related to PyInputPlus and uphold uniformity throughout their projects."
   ]
  },
  {
   "cell_type": "markdown",
   "id": "bf1d378e-0eaa-4f11-8f66-71482b278da9",
   "metadata": {},
   "source": [
    "Q3. How do you distinguish between inputInt() and inputFloat() ?\n",
    "\n",
    "Ans ->\n",
    "\n",
    "Understanding the difference between `inputInt()` and `inputFloat()` in PyInputPlus requires a grasp of what each function does. `inputInt()` is designed to prompt the user for an integer value, whereas `inputFloat()` asks for a floating-point number. This differentiation enables developers to define the kind of input they anticipate from the user, guaranteeing that the input aligns with their needs. By correctly using these functions, developers can simplify the process of input validation and handling in their Python programs."
   ]
  },
  {
   "cell_type": "markdown",
   "id": "c407073c-444c-4cc7-9229-27885ad41f59",
   "metadata": {},
   "source": [
    "Q4. Using PyInputPlus, how do you ensure that the user enters a whole number between 0 and 99 ?\n",
    "\n",
    "Ans ->\n",
    "\n",
    "To make certain that the user inputs a whole number ranging from 0 to 99 using PyInputPlus, you can employ the `inputInt()` function in conjunction with its `min`, `max`, and `greaterThan` parameters. Here's a sample code snippet illustrating this:\r\n",
    "\r\n",
    "```python\r\n",
    "import pyinputplus as pypi\r\n",
    "\r\n",
    "number = pypi.inputInt(prompt=\"Input a whole number between 0 and 99: \", min=0, max=99)\r\n",
    "print(\"Your input:\", number)\r\n",
    "```\r\n",
    "\r\n",
    "In this snippet, `inputInt()` prompts the user for an integer input. By setting `min=0` and `max=99`, we ensure that the input lies within the defined range. This method ensures that the user's input adheres to the requirement of being a whole number between 0 and 99, offering solid input validation for the application."
   ]
  },
  {
   "cell_type": "markdown",
   "id": "4cd58697-4ea5-4488-af7e-cd2fe4d2c7e2",
   "metadata": {},
   "source": [
    "Q5. What is transferred to the keyword arguments allowRegexes and blockRegexes ?\n",
    "\n",
    "Ans ->\n",
    "\n",
    "The keyword arguments `allowRegexes` and `blockRegexes` in PyInputPlus serve to convey regular expression patterns. These patterns determine which inputs are permitted (`allowRegexes`) or prohibited (`blockRegexes`) depending on the user's input. By defining these regex patterns, developers can tailor input validation rules to align with particular patterns or standards, thereby increasing the adaptability and strength of input management in their Python applications."
   ]
  },
  {
   "cell_type": "markdown",
   "id": "5cef7b13-693f-4dac-b97a-9772784d3500",
   "metadata": {},
   "source": [
    "Q6. If a blank input is entered three times, what does inputStr(limit=3) do ?\n",
    "\n",
    "Ans ->\n",
    "\n",
    "When `inputStr(limit=3)` in PyInputPlus receives three consecutive blank inputs, it triggers a `ValidationException`. This is due to the `limit` parameter, which sets the maximum number of tries before an exception is raised. In this case, as the limit is exceeded by three successive blank inputs, PyInputPlus raises an exception to signal that the input validation was unsuccessful. This functionality aids in enforcing input restrictions and guarantees that the user supplies significant input within the defined limits."
   ]
  },
  {
   "cell_type": "markdown",
   "id": "a8bddd4c-3390-422e-b2b4-2e0504279da7",
   "metadata": {},
   "source": [
    "Q7. If blank input is entered three times, what does inputStr(limit=3, default='hello') do ?\n",
    "\n",
    "Ans ->\n",
    "\n",
    "When `inputStr(limit=3, default='hello')` in PyInputPlus encounters three consecutive blank inputs, it yields the default value `'hello'` instead of triggering a `ValidationException`. This is due to the `default` parameter, which designates a backup value to be returned if the user surpasses the input limit. In this instance, as the limit is hit without obtaining valid input, PyInputPlus gives back the default value `'hello'` rather than raising an exception. This functionality offers a smooth approach to manage scenarios where the user doesn't meet the input requirements within the given limits."
   ]
  }
 ],
 "metadata": {
  "kernelspec": {
   "display_name": "anaconda-panel-2023.05-py310",
   "language": "python",
   "name": "conda-env-anaconda-panel-2023.05-py310-py"
  },
  "language_info": {
   "codemirror_mode": {
    "name": "ipython",
    "version": 3
   },
   "file_extension": ".py",
   "mimetype": "text/x-python",
   "name": "python",
   "nbconvert_exporter": "python",
   "pygments_lexer": "ipython3",
   "version": "3.11.5"
  }
 },
 "nbformat": 4,
 "nbformat_minor": 5
}
